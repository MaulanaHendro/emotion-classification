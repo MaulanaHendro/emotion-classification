{
  "nbformat": 4,
  "nbformat_minor": 0,
  "metadata": {
    "colab": {
      "provenance": [],
      "gpuType": "T4"
    },
    "kernelspec": {
      "name": "python3",
      "display_name": "Python 3"
    },
    "language_info": {
      "name": "python"
    },
    "accelerator": "GPU"
  },
  "cells": [
    {
      "cell_type": "markdown",
      "source": [
        "# Sentiment Analysis with TensorFlow\n",
        "In this notebook, we will use TensorFlow to classify human emotion based on text."
      ],
      "metadata": {
        "id": "ji4JsufUpAs5"
      }
    },
    {
      "cell_type": "markdown",
      "source": [
        "## Importing the required library"
      ],
      "metadata": {
        "id": "U00sWTPypeZt"
      }
    },
    {
      "cell_type": "code",
      "execution_count": 24,
      "metadata": {
        "id": "rPTThC4Gn8-P"
      },
      "outputs": [],
      "source": [
        "import tensorflow as tf\n",
        "import numpy as np\n",
        "import json\n",
        "from tensorflow.keras.preprocessing.text import Tokenizer\n",
        "from tensorflow.keras.preprocessing.sequence import pad_sequences\n",
        "from sklearn.model_selection import train_test_split\n",
        "import matplotlib.pyplot as plt"
      ]
    },
    {
      "cell_type": "markdown",
      "source": [
        "## Download and import the Dataset\n",
        "For this project, we will use the emotion dataset from huggingface.co. The full description and dataset are available in this link https://huggingface.co/datasets/dair-ai/emotion"
      ],
      "metadata": {
        "id": "Fd-oQEMgplsz"
      }
    },
    {
      "cell_type": "code",
      "source": [
        "!sudo apt install jq\n",
        "!rm data.json data.jsonl data.jsonl.gz\n",
        "!wget https://huggingface.co/datasets/dair-ai/emotion/resolve/main/data/data.jsonl.gz\n",
        "!gunzip data.jsonl.gz\n",
        "!jq --slurp . < data.jsonl > data.json\n",
        "!rm data.jsonl"
      ],
      "metadata": {
        "colab": {
          "base_uri": "https://localhost:8080/"
        },
        "id": "67E9EEN4pqLd",
        "outputId": "bb8bfea6-69b4-4ab1-e5b2-93ad12b64437"
      },
      "execution_count": 25,
      "outputs": [
        {
          "output_type": "stream",
          "name": "stdout",
          "text": [
            "Reading package lists... Done\n",
            "Building dependency tree       \n",
            "Reading state information... Done\n",
            "jq is already the newest version (1.6-1ubuntu0.20.04.1).\n",
            "0 upgraded, 0 newly installed, 0 to remove and 15 not upgraded.\n",
            "rm: cannot remove 'data.jsonl': No such file or directory\n",
            "rm: cannot remove 'data.jsonl.gz': No such file or directory\n",
            "--2023-06-17 00:43:20--  https://huggingface.co/datasets/dair-ai/emotion/resolve/main/data/data.jsonl.gz\n",
            "Resolving huggingface.co (huggingface.co)... 18.155.68.44, 18.155.68.116, 18.155.68.121, ...\n",
            "Connecting to huggingface.co (huggingface.co)|18.155.68.44|:443... connected.\n",
            "HTTP request sent, awaiting response... 302 Found\n",
            "Location: https://cdn-lfs.huggingface.co/datasets/emotion/8944e6b35cb42294769ac30cf17bd006231545b2eeecfa59324246e192564d1f?response-content-disposition=attachment%3B+filename*%3DUTF-8%27%27data.jsonl.gz%3B+filename%3D%22data.jsonl.gz%22%3B&response-content-type=application%2Fgzip&Expires=1687221801&Policy=eyJTdGF0ZW1lbnQiOlt7IlJlc291cmNlIjoiaHR0cHM6Ly9jZG4tbGZzLmh1Z2dpbmdmYWNlLmNvL2RhdGFzZXRzL2Vtb3Rpb24vODk0NGU2YjM1Y2I0MjI5NDc2OWFjMzBjZjE3YmQwMDYyMzE1NDViMmVlZWNmYTU5MzI0MjQ2ZTE5MjU2NGQxZj9yZXNwb25zZS1jb250ZW50LWRpc3Bvc2l0aW9uPSomcmVzcG9uc2UtY29udGVudC10eXBlPSoiLCJDb25kaXRpb24iOnsiRGF0ZUxlc3NUaGFuIjp7IkFXUzpFcG9jaFRpbWUiOjE2ODcyMjE4MDF9fX1dfQ__&Signature=Ecsil2VmmXlkNIwihTz1Ce8CGGoEKKRB7ujSWjYugdaOoXWDQQz13GUDXC6-romxWW-VpUsltEjr7l5XoPLgzlrRBJ0ehXuAxJDOujvWpU8WEaEbh0F72pkwc6s8tIHe0IXc1q2xFQpMQB8R4HiLaWAQZswVealL%7E8TTkMdy-fXyv6vn85ktEWrF5XGHnUWPcUKyMt9bNJiJZICq1dwZ6abkX1tU8DDikSzrS0ccgM0OoR8wzaZWqh36KchtZEi9XMumbQAphSzUs%7ELe7atAeSnlWiIjmKJpFh4hPnUGDTsRpeOuQWVXxaQaXGI%7EjrIBsH-5%7EN%7ESrt-VmJHz05gmlw__&Key-Pair-Id=KVTP0A1DKRTAX [following]\n",
            "--2023-06-17 00:43:20--  https://cdn-lfs.huggingface.co/datasets/emotion/8944e6b35cb42294769ac30cf17bd006231545b2eeecfa59324246e192564d1f?response-content-disposition=attachment%3B+filename*%3DUTF-8%27%27data.jsonl.gz%3B+filename%3D%22data.jsonl.gz%22%3B&response-content-type=application%2Fgzip&Expires=1687221801&Policy=eyJTdGF0ZW1lbnQiOlt7IlJlc291cmNlIjoiaHR0cHM6Ly9jZG4tbGZzLmh1Z2dpbmdmYWNlLmNvL2RhdGFzZXRzL2Vtb3Rpb24vODk0NGU2YjM1Y2I0MjI5NDc2OWFjMzBjZjE3YmQwMDYyMzE1NDViMmVlZWNmYTU5MzI0MjQ2ZTE5MjU2NGQxZj9yZXNwb25zZS1jb250ZW50LWRpc3Bvc2l0aW9uPSomcmVzcG9uc2UtY29udGVudC10eXBlPSoiLCJDb25kaXRpb24iOnsiRGF0ZUxlc3NUaGFuIjp7IkFXUzpFcG9jaFRpbWUiOjE2ODcyMjE4MDF9fX1dfQ__&Signature=Ecsil2VmmXlkNIwihTz1Ce8CGGoEKKRB7ujSWjYugdaOoXWDQQz13GUDXC6-romxWW-VpUsltEjr7l5XoPLgzlrRBJ0ehXuAxJDOujvWpU8WEaEbh0F72pkwc6s8tIHe0IXc1q2xFQpMQB8R4HiLaWAQZswVealL%7E8TTkMdy-fXyv6vn85ktEWrF5XGHnUWPcUKyMt9bNJiJZICq1dwZ6abkX1tU8DDikSzrS0ccgM0OoR8wzaZWqh36KchtZEi9XMumbQAphSzUs%7ELe7atAeSnlWiIjmKJpFh4hPnUGDTsRpeOuQWVXxaQaXGI%7EjrIBsH-5%7EN%7ESrt-VmJHz05gmlw__&Key-Pair-Id=KVTP0A1DKRTAX\n",
            "Resolving cdn-lfs.huggingface.co (cdn-lfs.huggingface.co)... 18.155.68.94, 18.155.68.73, 18.155.68.98, ...\n",
            "Connecting to cdn-lfs.huggingface.co (cdn-lfs.huggingface.co)|18.155.68.94|:443... connected.\n",
            "HTTP request sent, awaiting response... 200 OK\n",
            "Length: 15388281 (15M) [application/gzip]\n",
            "Saving to: ‘data.jsonl.gz’\n",
            "\n",
            "data.jsonl.gz       100%[===================>]  14.67M  --.-KB/s    in 0.1s    \n",
            "\n",
            "2023-06-17 00:43:20 (149 MB/s) - ‘data.jsonl.gz’ saved [15388281/15388281]\n",
            "\n"
          ]
        }
      ]
    },
    {
      "cell_type": "code",
      "source": [
        "#Load the JSON file\n",
        "with open(\"data.json\", 'r') as f:\n",
        "  datastore = json.load(f)\n",
        "\n",
        "#Initialize the lists\n",
        "sentences = []\n",
        "labels = []\n",
        "\n",
        "# Collect sentences and labels into the lists\n",
        "for item in datastore:\n",
        "  sentences.append(item['text'])\n",
        "  labels.append(item['label'])\n",
        ""
      ],
      "metadata": {
        "id": "MxhEDVQqqUgx"
      },
      "execution_count": 26,
      "outputs": []
    },
    {
      "cell_type": "code",
      "source": [
        "# Split the dataset into 80% train data and 20% test data\n",
        "train_sentences, test_sentences, train_labels, test_labels = train_test_split(sentences, labels, test_size=0.2, random_state=42)\n",
        "\n",
        "# Print the length of the train and test dataset\n",
        "print(f\"Train dataset size: {len(train_sentences)}\")\n",
        "print(f\"Test dataset size: {len(test_sentences)}\")"
      ],
      "metadata": {
        "colab": {
          "base_uri": "https://localhost:8080/"
        },
        "id": "t1PrrxCyqwcb",
        "outputId": "92074e74-be50-4b84-ded6-54f8a01fe5ba"
      },
      "execution_count": 27,
      "outputs": [
        {
          "output_type": "stream",
          "name": "stdout",
          "text": [
            "Train dataset size: 333447\n",
            "Test dataset size: 83362\n"
          ]
        }
      ]
    },
    {
      "cell_type": "code",
      "source": [
        "print(len(train_sentences))\n",
        "print(len(train_labels))\n",
        "\n",
        "print(len(test_sentences))\n",
        "print(len(test_labels))"
      ],
      "metadata": {
        "colab": {
          "base_uri": "https://localhost:8080/"
        },
        "id": "3fBb4PxNxy03",
        "outputId": "7872efdd-04b8-4904-cc67-6a98bc95cf51"
      },
      "execution_count": 28,
      "outputs": [
        {
          "output_type": "stream",
          "name": "stdout",
          "text": [
            "333447\n",
            "333447\n",
            "83362\n",
            "83362\n"
          ]
        }
      ]
    },
    {
      "cell_type": "code",
      "source": [
        "# Print the first 10 sentences and labels of the train data\n",
        "print(\"Train Data:\")\n",
        "for sentence, label in zip(train_sentences[:10], train_labels[:10]):\n",
        "    print(\"Sentence:\", sentence)\n",
        "    print(\"Label:\", label)\n",
        "    print()\n",
        "\n",
        "# Print the first 10 sentences and labels of the test data\n",
        "print(\"Test Data:\")\n",
        "for sentence, label in zip(test_sentences[:10], test_labels[:10]):\n",
        "    print(\"Sentence:\", sentence)\n",
        "    print(\"Label:\", label)\n",
        "    print()"
      ],
      "metadata": {
        "colab": {
          "base_uri": "https://localhost:8080/"
        },
        "id": "WC5aDZ4EsqYB",
        "outputId": "0cba4fee-73d4-4968-fec0-f5908c311d66"
      },
      "execution_count": 29,
      "outputs": [
        {
          "output_type": "stream",
          "name": "stdout",
          "text": [
            "Train Data:\n",
            "Sentence: im sharing what weve done and learned only because when i was making decisions about what was best for our family it was really intimidating for me to get good advice from people without feeling pressured from one side or the other\n",
            "Label: 4\n",
            "\n",
            "Sentence: i sit quietly trying to get other work done but feeling largely useless\n",
            "Label: 0\n",
            "\n",
            "Sentence: i feel very jolly\n",
            "Label: 1\n",
            "\n",
            "Sentence: i like to keep it on my desk for a middle of the day pick me up when im feeling stressed\n",
            "Label: 3\n",
            "\n",
            "Sentence: i feel the witness is sincere\n",
            "Label: 1\n",
            "\n",
            "Sentence: im not scared of needles but after having one too many painful jabs in rapid sucession i admit to now feeling apprehensive every time i know i need to have an injection\n",
            "Label: 4\n",
            "\n",
            "Sentence: i don t actually want a us college education even if it would make me feel much more intelligent but there is sun in california\n",
            "Label: 1\n",
            "\n",
            "Sentence: i reach the quiet road and skim down the pavement feeling the cool spring wind blowing my face\n",
            "Label: 1\n",
            "\n",
            "Sentence: i am in similar condition the melancholic feeling floods the thought the smell and surroundings bring me to an isolated space in this crowded world\n",
            "Label: 0\n",
            "\n",
            "Sentence: i feel like i could get violent if another man so much as looked at her twice\n",
            "Label: 3\n",
            "\n",
            "Test Data:\n",
            "Sentence: i just feel really helpless and heavy hearted\n",
            "Label: 4\n",
            "\n",
            "Sentence: ive enjoyed being able to slouch about relax and unwind and frankly needed it after those last few weeks around the end of uni and the expo i have lately started to find myself feeling a bit listless which is never really a good thing\n",
            "Label: 0\n",
            "\n",
            "Sentence: i gave up my internship with the dmrg and am feeling distraught\n",
            "Label: 4\n",
            "\n",
            "Sentence: i dont know i feel so lost\n",
            "Label: 0\n",
            "\n",
            "Sentence: i am a kindergarten teacher and i am thoroughly weary of my job after having taken the university entrance exam i suffered from anxiety for weeks as i did not want to carry on with my work studies were the only alternative\n",
            "Label: 4\n",
            "\n",
            "Sentence: i was beginning to feel quite disheartened\n",
            "Label: 0\n",
            "\n",
            "Sentence: i would think that whomever would be lucky enough to stay in this suite must feel like it is the most romantic place on earth\n",
            "Label: 2\n",
            "\n",
            "Sentence: i fear that they won t ever feel that delicious excitement of christmas eve at least not in the same way i remember doing it\n",
            "Label: 1\n",
            "\n",
            "Sentence: im forever taking some time out to have a lie down because i feel weird\n",
            "Label: 5\n",
            "\n",
            "Sentence: i can still lose the weight without feeling deprived\n",
            "Label: 0\n",
            "\n"
          ]
        }
      ]
    },
    {
      "cell_type": "markdown",
      "source": [
        "## Data Preprocessing\n",
        "In this section, we will use the Tokenizer function to tokenize the sentences"
      ],
      "metadata": {
        "id": "PjCG6_l-tE39"
      }
    },
    {
      "cell_type": "code",
      "source": [
        "# Initialize the required variables\n",
        "vocab_size = 20000\n",
        "max_length = 120\n",
        "trunc_type = 'post'\n",
        "padding_type = 'post'\n",
        "oov_tok = \"<OOV>\"\n",
        "\n",
        "# Initialize the Tokenizer class\n",
        "tokenizer = Tokenizer(num_words=vocab_size, oov_token=oov_tok)\n",
        "\n",
        "# Generate the word index dictionary\n",
        "tokenizer.fit_on_texts(train_sentences)\n",
        "word_index = tokenizer.word_index\n",
        "\n",
        "# Generate and pad the training sequences\n",
        "training_sequences = tokenizer.texts_to_sequences(train_sentences)\n",
        "training_padded = pad_sequences(training_sequences, maxlen=max_length, padding=padding_type, truncating=trunc_type)\n",
        "\n",
        "# Generate and pad the testing sequences\n",
        "testing_sequences = tokenizer.texts_to_sequences(test_sentences)\n",
        "testing_padded = pad_sequences(testing_sequences, maxlen=max_length, padding=padding_type, truncating=trunc_type)\n",
        "\n",
        "# Convert the labels lists into numpy array\n",
        "training_labels = np.array(train_labels)\n",
        "testing_labels = np.array(test_labels)\n"
      ],
      "metadata": {
        "id": "_1MddSA5tQN7"
      },
      "execution_count": 30,
      "outputs": []
    },
    {
      "cell_type": "code",
      "source": [
        "# Print the result from the tokenizing and padding process\n",
        "print(len(training_labels))\n",
        "print(len(training_padded))\n",
        "\n",
        "print(len(testing_labels))\n",
        "print(len(testing_padded))"
      ],
      "metadata": {
        "colab": {
          "base_uri": "https://localhost:8080/"
        },
        "id": "4fV3v0fJucpC",
        "outputId": "304e7380-6e2a-4b59-81e3-ef2614e35156"
      },
      "execution_count": 31,
      "outputs": [
        {
          "output_type": "stream",
          "name": "stdout",
          "text": [
            "333447\n",
            "333447\n",
            "83362\n",
            "83362\n"
          ]
        }
      ]
    },
    {
      "cell_type": "markdown",
      "source": [
        "## Build and Compile the Model\n",
        "Now, we will build and compile our model using TensorFlow. We will use several neuron layers such as embedding, bidirectional, and convolution."
      ],
      "metadata": {
        "id": "mN0L2Q7zu_Fx"
      }
    },
    {
      "cell_type": "code",
      "source": [
        "# Parameters\n",
        "embedding_dim = 16\n",
        "filters = 128\n",
        "kernel_size = 5\n",
        "dense_dim = 6\n",
        "\n",
        "# Model definition\n",
        "model = tf.keras.models.Sequential([\n",
        "    tf.keras.layers.Embedding(vocab_size, embedding_dim, input_length=max_length),\n",
        "    tf.keras.layers.SpatialDropout1D(0.5),\n",
        "    tf.keras.layers.Bidirectional(tf.keras.layers.LSTM(32, return_sequences=32)),\n",
        "    tf.keras.layers.Conv1D(filters, kernel_size, activation='relu'),\n",
        "    tf.keras.layers.GlobalMaxPooling1D(),\n",
        "    tf.keras.layers.Dense(dense_dim, activation='relu'),\n",
        "    tf.keras.layers.Dense(6, activation='softmax')\n",
        "\n",
        "])\n",
        "\n",
        "# Set the training parameters\n",
        "model.compile(loss='sparse_categorical_crossentropy',optimizer='adam',metrics=['accuracy'])\n",
        "\n",
        "# Print the model summary\n",
        "model.summary()"
      ],
      "metadata": {
        "colab": {
          "base_uri": "https://localhost:8080/"
        },
        "id": "Wn2ij0rIvLkP",
        "outputId": "c7d0c14b-dbb3-49f0-d5a5-e76fa186f155"
      },
      "execution_count": 32,
      "outputs": [
        {
          "output_type": "stream",
          "name": "stdout",
          "text": [
            "Model: \"sequential_2\"\n",
            "_________________________________________________________________\n",
            " Layer (type)                Output Shape              Param #   \n",
            "=================================================================\n",
            " embedding_3 (Embedding)     (None, 120, 16)           320000    \n",
            "                                                                 \n",
            " spatial_dropout1d_3 (Spatia  (None, 120, 16)          0         \n",
            " lDropout1D)                                                     \n",
            "                                                                 \n",
            " bidirectional_3 (Bidirectio  (None, 120, 64)          12544     \n",
            " nal)                                                            \n",
            "                                                                 \n",
            " conv1d_3 (Conv1D)           (None, 116, 128)          41088     \n",
            "                                                                 \n",
            " global_max_pooling1d_2 (Glo  (None, 128)              0         \n",
            " balMaxPooling1D)                                                \n",
            "                                                                 \n",
            " dense_4 (Dense)             (None, 6)                 774       \n",
            "                                                                 \n",
            " dense_5 (Dense)             (None, 6)                 42        \n",
            "                                                                 \n",
            "=================================================================\n",
            "Total params: 374,448\n",
            "Trainable params: 374,448\n",
            "Non-trainable params: 0\n",
            "_________________________________________________________________\n"
          ]
        }
      ]
    },
    {
      "cell_type": "markdown",
      "source": [
        "## Train the model\n",
        "We will train the model and see the result"
      ],
      "metadata": {
        "id": "-QAFry-8whId"
      }
    },
    {
      "cell_type": "code",
      "source": [
        "num_epochs = 30\n",
        "early_stopping = tf.keras.callbacks.EarlyStopping(patience=3)\n",
        "\n",
        "# Train the model\n",
        "history = model.fit(training_padded, training_labels, epochs=num_epochs, validation_data=(testing_padded, testing_labels), callbacks=[early_stopping], verbose=2)"
      ],
      "metadata": {
        "colab": {
          "base_uri": "https://localhost:8080/"
        },
        "id": "2LFlghHmwlHE",
        "outputId": "07b2e8bf-0aae-405b-b5e2-ab3deb8c5f26"
      },
      "execution_count": 33,
      "outputs": [
        {
          "output_type": "stream",
          "name": "stdout",
          "text": [
            "Epoch 1/30\n",
            "10421/10421 - 168s - loss: 0.3357 - accuracy: 0.8803 - val_loss: 0.1378 - val_accuracy: 0.9381 - 168s/epoch - 16ms/step\n",
            "Epoch 2/30\n",
            "10421/10421 - 139s - loss: 0.1486 - accuracy: 0.9331 - val_loss: 0.1109 - val_accuracy: 0.9383 - 139s/epoch - 13ms/step\n",
            "Epoch 3/30\n",
            "10421/10421 - 138s - loss: 0.1296 - accuracy: 0.9352 - val_loss: 0.1085 - val_accuracy: 0.9370 - 138s/epoch - 13ms/step\n",
            "Epoch 4/30\n",
            "10421/10421 - 136s - loss: 0.1223 - accuracy: 0.9363 - val_loss: 0.1086 - val_accuracy: 0.9388 - 136s/epoch - 13ms/step\n",
            "Epoch 5/30\n",
            "10421/10421 - 135s - loss: 0.1170 - accuracy: 0.9373 - val_loss: 0.1048 - val_accuracy: 0.9395 - 135s/epoch - 13ms/step\n",
            "Epoch 6/30\n",
            "10421/10421 - 128s - loss: 0.1141 - accuracy: 0.9377 - val_loss: 0.1049 - val_accuracy: 0.9391 - 128s/epoch - 12ms/step\n",
            "Epoch 7/30\n",
            "10421/10421 - 129s - loss: 0.1113 - accuracy: 0.9387 - val_loss: 0.1077 - val_accuracy: 0.9387 - 129s/epoch - 12ms/step\n",
            "Epoch 8/30\n",
            "10421/10421 - 136s - loss: 0.1093 - accuracy: 0.9391 - val_loss: 0.1035 - val_accuracy: 0.9392 - 136s/epoch - 13ms/step\n",
            "Epoch 9/30\n",
            "10421/10421 - 137s - loss: 0.1080 - accuracy: 0.9395 - val_loss: 0.1019 - val_accuracy: 0.9372 - 137s/epoch - 13ms/step\n",
            "Epoch 10/30\n",
            "10421/10421 - 128s - loss: 0.1062 - accuracy: 0.9397 - val_loss: 0.1030 - val_accuracy: 0.9360 - 128s/epoch - 12ms/step\n",
            "Epoch 11/30\n",
            "10421/10421 - 129s - loss: 0.1049 - accuracy: 0.9399 - val_loss: 0.1013 - val_accuracy: 0.9389 - 129s/epoch - 12ms/step\n",
            "Epoch 12/30\n",
            "10421/10421 - 135s - loss: 0.1025 - accuracy: 0.9401 - val_loss: 0.0986 - val_accuracy: 0.9399 - 135s/epoch - 13ms/step\n",
            "Epoch 13/30\n",
            "10421/10421 - 129s - loss: 0.0998 - accuracy: 0.9412 - val_loss: 0.0962 - val_accuracy: 0.9390 - 129s/epoch - 12ms/step\n",
            "Epoch 14/30\n",
            "10421/10421 - 128s - loss: 0.0989 - accuracy: 0.9406 - val_loss: 0.0958 - val_accuracy: 0.9355 - 128s/epoch - 12ms/step\n",
            "Epoch 15/30\n",
            "10421/10421 - 128s - loss: 0.0969 - accuracy: 0.9419 - val_loss: 0.0970 - val_accuracy: 0.9400 - 128s/epoch - 12ms/step\n",
            "Epoch 16/30\n",
            "10421/10421 - 129s - loss: 0.0962 - accuracy: 0.9416 - val_loss: 0.0971 - val_accuracy: 0.9403 - 129s/epoch - 12ms/step\n",
            "Epoch 17/30\n",
            "10421/10421 - 128s - loss: 0.0959 - accuracy: 0.9411 - val_loss: 0.0938 - val_accuracy: 0.9376 - 128s/epoch - 12ms/step\n",
            "Epoch 18/30\n",
            "10421/10421 - 128s - loss: 0.0949 - accuracy: 0.9414 - val_loss: 0.0952 - val_accuracy: 0.9385 - 128s/epoch - 12ms/step\n",
            "Epoch 19/30\n",
            "10421/10421 - 128s - loss: 0.0953 - accuracy: 0.9413 - val_loss: 0.0957 - val_accuracy: 0.9370 - 128s/epoch - 12ms/step\n",
            "Epoch 20/30\n",
            "10421/10421 - 131s - loss: 0.0938 - accuracy: 0.9423 - val_loss: 0.0965 - val_accuracy: 0.9369 - 131s/epoch - 13ms/step\n"
          ]
        }
      ]
    },
    {
      "cell_type": "code",
      "source": [
        "import matplotlib.pyplot as plt\n",
        "\n",
        "# Plot Utility\n",
        "def plot_graphs(history, string):\n",
        "  plt.plot(history.history[string])\n",
        "  plt.plot(history.history['val_'+string])\n",
        "  plt.xlabel(\"Epochs\")\n",
        "  plt.ylabel(string)\n",
        "  plt.legend([string, 'val_'+string])\n",
        "  plt.show()\n",
        "\n",
        "# Plot the accuracy and loss history\n",
        "plot_graphs(history, 'accuracy')\n",
        "plot_graphs(history, 'loss')"
      ],
      "metadata": {
        "colab": {
          "base_uri": "https://localhost:8080/",
          "height": 881
        },
        "id": "JVPoDPva-FM3",
        "outputId": "b262b235-b9f0-40e8-eb15-afca6186a6d6"
      },
      "execution_count": 34,
      "outputs": [
        {
          "output_type": "display_data",
          "data": {
            "text/plain": [
              "<Figure size 640x480 with 1 Axes>"
            ],
            "image/png": "[encoded data removed]"
          },
          "metadata": {}
        },
        {
          "output_type": "display_data",
          "data": {
            "text/plain": [
              "<Figure size 640x480 with 1 Axes>"
            ],
            "image/png": "[encoded data removed]"
          },
          "metadata": {}
        }
      ]
    },
    {
      "cell_type": "markdown",
      "source": [
        "As you can see from the plot above, our model seems good enough. The training accuracy and validation accuracy are linear to each other. On the other side, the training loss and validatoin loss are also linear to each other. We can say that our model is not overfitting. Although there may be some tweaks we can do to make the model better."
      ],
      "metadata": {
        "id": "LKb94Hb6-PO4"
      }
    }
  ]
}